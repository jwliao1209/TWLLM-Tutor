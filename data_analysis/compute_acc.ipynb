{
 "cells": [
  {
   "cell_type": "code",
   "execution_count": 4,
   "metadata": {},
   "outputs": [],
   "source": [
    "import sys\n",
    "sys.path.append(\"../lib\")"
   ]
  },
  {
   "cell_type": "code",
   "execution_count": 5,
   "metadata": {},
   "outputs": [],
   "source": [
    "from pprint import pprint\n",
    "from argparse import Namespace, ArgumentParser\n",
    "from collections import OrderedDict\n",
    "\n",
    "from dataset import Prompt\n",
    "from metric.accuracy import correcter\n",
    "from utils.data_utils import read_json, write_json"
   ]
  },
  {
   "cell_type": "code",
   "execution_count": 6,
   "metadata": {},
   "outputs": [
    {
     "name": "stdout",
     "output_type": "stream",
     "text": [
      "答對題數: 52\n",
      "答對率: 0.5360824742268041\n",
      "總題數: 97\n"
     ]
    }
   ],
   "source": [
    "prediction_list = read_json(\"../prediction/lora_ep12_acc52_valid_108_112_history.json\")\n",
    "\n",
    "correct_num = 0\n",
    "total_num = 0\n",
    "\n",
    "for data in prediction_list:\n",
    "    total_num += 1\n",
    "    if data[\"is_correct\"]:\n",
    "        correct_num += 1\n",
    "\n",
    "print(\"答對題數:\", correct_num)\n",
    "print(\"答對率:\", correct_num / total_num)\n",
    "print(\"總題數:\", total_num)"
   ]
  },
  {
   "cell_type": "code",
   "execution_count": 5,
   "metadata": {},
   "outputs": [
    {
     "name": "stdout",
     "output_type": "stream",
     "text": [
      "答對題數: 67\n",
      "答對率: 0.5317460317460317\n",
      "總題數: 126\n"
     ]
    }
   ],
   "source": [
    "prediction_list = read_json(\"../prediction/chatGPT.json\")\n",
    "\n",
    "correct_num = 0\n",
    "total_num = 0\n",
    "\n",
    "for data in prediction_list:\n",
    "    total_num += 1\n",
    "    if data[\"is_correct\"]:\n",
    "        correct_num += 1\n",
    "\n",
    "print(\"答對題數:\", correct_num)\n",
    "print(\"答對率:\", correct_num / total_num)\n",
    "print(\"總題數:\", total_num)"
   ]
  },
  {
   "cell_type": "code",
   "execution_count": null,
   "metadata": {},
   "outputs": [],
   "source": []
  }
 ],
 "metadata": {
  "kernelspec": {
   "display_name": "adl_final",
   "language": "python",
   "name": "python3"
  },
  "language_info": {
   "codemirror_mode": {
    "name": "ipython",
    "version": 3
   },
   "file_extension": ".py",
   "mimetype": "text/x-python",
   "name": "python",
   "nbconvert_exporter": "python",
   "pygments_lexer": "ipython3",
   "version": "3.10.13 (main, Aug 25 2023, 13:20:03) [GCC 9.4.0]"
  },
  "orig_nbformat": 4,
  "vscode": {
   "interpreter": {
    "hash": "f61071c24701df2cb2c27d0066aa1c7d0ffa051eb15335ca11fa217094df751f"
   }
  }
 },
 "nbformat": 4,
 "nbformat_minor": 2
}
